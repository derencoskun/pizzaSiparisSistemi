{
  "nbformat": 4,
  "nbformat_minor": 0,
  "metadata": {
    "colab": {
      "provenance": []
    },
    "kernelspec": {
      "name": "python3",
      "display_name": "Python 3"
    },
    "language_info": {
      "name": "python"
    }
  },
  "cells": [
    {
      "cell_type": "markdown",
      "source": [
        "#Pizza Sipariş Sistemi"
      ],
      "metadata": {
        "id": "6v3VVV4yxtFW"
      }
    },
    {
      "cell_type": "code",
      "execution_count": 116,
      "metadata": {
        "id": "Q2TK3BsnyY0M"
      },
      "outputs": [],
      "source": [
        "#Gerekli Kütüphanelerin import edilmesi\n",
        "import csv\n",
        "from datetime import datetime\n",
        "from datetime import timedelta\n",
        "from csv import writer"
      ]
    },
    {
      "cell_type": "code",
      "source": [
        "#Pizza classının oluşturlması.\n",
        "class pizza:\n",
        "  def __init__(self, name, description, cost):\n",
        "    self.name = name\n",
        "    self.description = description\n",
        "    self.cost = cost"
      ],
      "metadata": {
        "id": "RE420lfk0RbB"
      },
      "execution_count": 117,
      "outputs": []
    },
    {
      "cell_type": "code",
      "source": [
        "#Pizza alt sınıflarının oluşturlması.\n",
        "klasik = pizza(\"Klasik\",\"Klasik karışık pizza\", 90)\n",
        "margarita = pizza(\"Margarita\",\"Sadece peynirli pizza\", 75)\n",
        "turk_pizza = pizza(\"Türk Pizzası\",\"Türk lezzetleri pizza\", 90)\n",
        "sade = pizza(\"Sade\", \"Sade pizza\",  100)"
      ],
      "metadata": {
        "id": "qF2UGC9t66Zb"
      },
      "execution_count": 118,
      "outputs": []
    },
    {
      "cell_type": "code",
      "source": [
        "#Decorator classının oluşturulması. Pizza classının özelliklerini kullanır.\n",
        "class decorator(pizza):\n",
        "  def toplam_ucret(self,pizza):\n",
        "    ucret = pizza.cost + self.cost\n",
        "    return ucret\n",
        "  def pizza_aciklama(self,pizza):\n",
        "    desc = pizza.description + ' ' + self.description + ' ile hazırlanacaktır.'\n",
        "    return desc"
      ],
      "metadata": {
        "id": "3zknP6VK7QE3"
      },
      "execution_count": 119,
      "outputs": []
    },
    {
      "cell_type": "code",
      "source": [
        "#Ek malzemelerin decorator alt sınıfı olarak oluşturulur.\n",
        "zeytin = decorator(\"Zeytin\",\"ekstra zeytin\", 5)\n",
        "mantar = decorator(\"Mantar\",\"ekstra mantar\", 10)\n",
        "keci_peyniri = decorator(\"Keçi Peyniri\",\"özel keçi peyniri\", 15)\n",
        "et = decorator(\"Et\",\"marine edilmiş dana eti\", 20)\n",
        "sogan = decorator(\"Soğan\",\"karamelize soğan\", 7)\n",
        "misir = decorator(\"Mısır\",\"yerli mısır\", 8)"
      ],
      "metadata": {
        "id": "npeLYj2Tfmtc"
      },
      "execution_count": 120,
      "outputs": []
    },
    {
      "cell_type": "code",
      "source": [
        "#Menu.txt dosyası okunarak, menu değişkeni oluşturulur.\n",
        "file = open(\"/Menu.txt\", \"r\")\n",
        "menu = file.read()"
      ],
      "metadata": {
        "id": "URMSn7s6K3KA"
      },
      "execution_count": 121,
      "outputs": []
    },
    {
      "cell_type": "code",
      "source": [
        "#Menü sözlüğü oluşturulur. Keyleri menüdeki numaralardan, valueları ise alt sınıflardan oluşur.\n",
        "menu_dict = {\n",
        "    \"1\" : klasik,\n",
        "    \"2\" : margarita,\n",
        "    \"3\" : turk_pizza,\n",
        "    \"4\" : sade,\n",
        "    \"11\" : zeytin,\n",
        "    \"12\" : mantar,\n",
        "    \"13\" : keci_peyniri,\n",
        "    \"14\" : et,\n",
        "    \"15\" : sogan,\n",
        "    \"16\": misir\n",
        "}"
      ],
      "metadata": {
        "id": "RLGyCaoxQKRC"
      },
      "execution_count": 122,
      "outputs": []
    },
    {
      "cell_type": "code",
      "source": [
        "#Veri tabanına siparişlerin yazılması için oluşturulan fonksiyon.\n",
        "def veritabanina_yazma(siparis):\n",
        "  with open('Orders_Database.csv', 'a') as database:\n",
        "    writer_object = writer(database)\n",
        "    writer_object.writerow(siparis)\n",
        "    database.close()"
      ],
      "metadata": {
        "id": "VIqZ_rQThcIS"
      },
      "execution_count": 123,
      "outputs": []
    },
    {
      "cell_type": "code",
      "source": [
        "#Pizza seçimi için hazırlanan fonksiyon\n",
        "def pizza_secimi():\n",
        "  pizza_numarasi = input(\"Almak istediğiniz pizza ile ilgili numarayı giriniz: \")\n",
        "  while True:\n",
        "   try:\n",
        "    if int(pizza_numarasi) in range(0,5) :\n",
        "     secilen_pizza = menu_dict[pizza_numarasi]\n",
        "     break\n",
        "    pizza_numarasi = input(\"Lütfen menüde olan bir değer giriniz. Almak istediğiniz pizza ile ilgili numarayı giriniz: \")\n",
        "   except ValueError:\n",
        "    pizza_numarasi = input(\"Lütfen menüde olan bir değer giriniz. Almak istediğiniz pizza ile ilgili numarayı giriniz: \")\n",
        "  return secilen_pizza"
      ],
      "metadata": {
        "id": "96JktLvBklVF"
      },
      "execution_count": 149,
      "outputs": []
    },
    {
      "cell_type": "code",
      "source": [
        "#Ek malzeme seçimi için hazırlanan fonksiyon\n",
        "def ek_malzeme_secimi():\n",
        "  malzeme_numarasi = input(\"Eklemek istediğiniz malzeme ile ilgili numarayı giriniz: \")\n",
        "  while True:\n",
        "    try:\n",
        "     if int(malzeme_numarasi) in range(10,17):\n",
        "      secilen_malzeme = menu_dict[malzeme_numarasi]\n",
        "      break\n",
        "     malzeme_numarasi = input(\"Lütfen menüde olan bir değer giriniz. Eklemek istediğiniz malzeme ile ilgili numarayı giriniz: \")\n",
        "    except ValueError:\n",
        "       malzeme_numarasi = input(\"Lütfen menüde olan bir değer giriniz. Eklemek istediğiniz malzeme ile ilgili numarayı giriniz: \")\n",
        "  return secilen_malzeme"
      ],
      "metadata": {
        "id": "mJFkSta1k0LG"
      },
      "execution_count": 151,
      "outputs": []
    },
    {
      "cell_type": "code",
      "source": [
        "#Ödeme fonksiyonu\n",
        "def odeme():\n",
        "  kullanici_adi = input(\"Lütfen adınızı soyadınızı giriniz: \")\n",
        "  kimlik_no = input(\"Lütfen TC kimlik numaranızı giriniz: \")\n",
        "  #Kimlik numarası hane kontrolü\n",
        "  while True:\n",
        "   if len(kimlik_no) == 11:\n",
        "     break\n",
        "   kimlik_no = input(\"Kimlik numaranız 11 haneli olmalıdır. Lütfen TC kimlik numaranızı giriniz: \")\n",
        "  kredi_karti_no = input(\"Lütfen kredi karti numaranızı giriniz: \")\n",
        "  #Kredi kartı numarası hane kontrolü\n",
        "  while True:\n",
        "    if len(kredi_karti_no) == 16:\n",
        "      break\n",
        "    kredi_karti_no = input(\"Kredi kartı numaranız 16 haneli olmalıdır. Lütfen kredi karti numaranızı giriniz: \")\n",
        "  sifre = input(\"Lütfen karta ait şifreyi giriniz: \")\n",
        "  #Şifre hane kontrolü\n",
        "  while True:\n",
        "    if len(sifre) == 4:\n",
        "      break\n",
        "    sifre = input(\"Şifreniz 4 haneli olmalıdır. Lütfen karta ait şifreyi giriniz: \")\n",
        "  #Sipariş zamanının Türkiye yerel saatine eşitlemek için 3 saat ekliyorum.\n",
        "  siparis_zamani = (datetime.now() + timedelta(hours=3)).strftime(\"%d/%m/%y  %H:%M\")\n",
        "  return kullanici_adi, kimlik_no, kredi_karti_no, sifre, siparis_zamani"
      ],
      "metadata": {
        "id": "1jmCl1bMuieX"
      },
      "execution_count": 162,
      "outputs": []
    },
    {
      "cell_type": "code",
      "source": [
        "#Sipariş işlemlerinin gerçekleşeceği main fonksiyonu\n",
        "def main():\n",
        "  print(menu)\n",
        "  #Siparişin detaylarını liste kullanarak database üzerine yazacağız. Main fonksiyon her çağrıldığında sıfırdan boş bir liste oluşturulyor.\n",
        "  siparis = []\n",
        "  #Sipariş bilgileri alınır.\n",
        "  secilen_pizza = pizza_secimi()\n",
        "  secilen_malzeme = ek_malzeme_secimi()\n",
        "  tutar = secilen_malzeme.toplam_ucret(secilen_pizza)\n",
        "  aciklama = secilen_malzeme.pizza_aciklama(secilen_pizza) + \" Toplam tutar: \" + str(tutar) +\"TL\"\n",
        "  print(aciklama)\n",
        "  #Ödeme işlemi odeme fonksiyonu çağrılarak gerçekleştiriliyor.\n",
        "  global kullanici_adi, kimlik_no, kredi_karti_no, sifre, siparis_zamani\n",
        "  kullanici_adi, kimlik_no, kredi_karti_no, sifre, siparis_zamani = odeme()\n",
        "  #Sipariş bilgileri order listesine eleman olarak eklenir.\n",
        "  siparis.append(kullanici_adi)\n",
        "  siparis.append(kimlik_no)\n",
        "  siparis.append(kredi_karti_no)\n",
        "  siparis.append(sifre)\n",
        "  siparis.append(aciklama)\n",
        "  siparis.append(siparis_zamani)\n",
        "  #Sipariş bilgileri veritabanına yazılır.\n",
        "  veritabanina_yazma(siparis)\n",
        "  print(\"Siparişiniz başarı ile alınmıştır.\")"
      ],
      "metadata": {
        "id": "TKYAKVbQjcfG"
      },
      "execution_count": 163,
      "outputs": []
    },
    {
      "cell_type": "code",
      "source": [
        "main()"
      ],
      "metadata": {
        "colab": {
          "base_uri": "https://localhost:8080/"
        },
        "id": "tOOEkoEMA-Ck",
        "outputId": "47ab98ae-3df8-443f-8b03-a071035195d5"
      },
      "execution_count": 165,
      "outputs": [
        {
          "output_type": "stream",
          "name": "stdout",
          "text": [
            "* Lütfen Bir Pizza Tabanı Seçiniz:\n",
            "1: Klasik\n",
            "2: Margarita\n",
            "3: TürkPizza\n",
            "4: Sade Pizza\n",
            "* ve seçeceğiniz sos:\n",
            "11: Zeytin\n",
            "12: Mantarlar\n",
            "13: Keçi Peyniri\n",
            "14: Et\n",
            "15: Soğan\n",
            "16: Mısır\n",
            "* Teşekkür ederiz!\n",
            "\n",
            "Almak istediğiniz pizza ile ilgili numarayı giriniz: 2\n",
            "Eklemek istediğiniz malzeme ile ilgili numarayı giriniz: 15\n",
            "Sadece peynirli pizza karamelize soğan ile hazırlanacaktır. Toplam tutar: 82TL\n",
            "Lütfen adınızı soyadınızı giriniz: Joey Tribianni\n",
            "Lütfen TC kimlik numaranızı giriniz: 77778888999\n",
            "Lütfen kredi karti numaranızı giriniz: 1111222244445555\n",
            "Lütfen karta ait şifreyi giriniz: 7777\n",
            "Siparişiniz başarı ile alınmıştır.\n"
          ]
        }
      ]
    },
    {
      "cell_type": "code",
      "source": [
        "main()"
      ],
      "metadata": {
        "colab": {
          "base_uri": "https://localhost:8080/"
        },
        "id": "eKCBt9M6A_Pa",
        "outputId": "dafcdaaf-5df9-4703-f896-451f3b346b66"
      },
      "execution_count": 166,
      "outputs": [
        {
          "output_type": "stream",
          "name": "stdout",
          "text": [
            "* Lütfen Bir Pizza Tabanı Seçiniz:\n",
            "1: Klasik\n",
            "2: Margarita\n",
            "3: TürkPizza\n",
            "4: Sade Pizza\n",
            "* ve seçeceğiniz sos:\n",
            "11: Zeytin\n",
            "12: Mantarlar\n",
            "13: Keçi Peyniri\n",
            "14: Et\n",
            "15: Soğan\n",
            "16: Mısır\n",
            "* Teşekkür ederiz!\n",
            "\n",
            "Almak istediğiniz pizza ile ilgili numarayı giriniz: 2\n",
            "Eklemek istediğiniz malzeme ile ilgili numarayı giriniz: 12\n",
            "Sadece peynirli pizza ekstra mantar ile hazırlanacaktır. Toplam tutar: 85TL\n",
            "Lütfen adınızı soyadınızı giriniz: Rachel Green\n",
            "Lütfen TC kimlik numaranızı giriniz: 33333555111\n",
            "Lütfen kredi karti numaranızı giriniz: 1111444477778888\n",
            "Lütfen karta ait şifreyi giriniz: 2222\n",
            "Siparişiniz başarı ile alınmıştır.\n"
          ]
        }
      ]
    }
  ]
}