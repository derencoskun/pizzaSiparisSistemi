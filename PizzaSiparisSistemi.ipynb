{
  "nbformat": 4,
  "nbformat_minor": 0,
  "metadata": {
    "colab": {
      "provenance": []
    },
    "kernelspec": {
      "name": "python3",
      "display_name": "Python 3"
    },
    "language_info": {
      "name": "python"
    }
  },
  "cells": [
    {
      "cell_type": "markdown",
      "source": [
        "#Pizza Sipariş Sistemi"
      ],
      "metadata": {
        "id": "6v3VVV4yxtFW"
      }
    },
    {
      "cell_type": "code",
      "execution_count": 214,
      "metadata": {
        "id": "Q2TK3BsnyY0M"
      },
      "outputs": [],
      "source": [
        "#Gerekli Kütüphanelerin import edilmesi\n",
        "import csv\n",
        "from datetime import datetime\n",
        "from datetime import timedelta\n",
        "from csv import writer"
      ]
    },
    {
      "cell_type": "code",
      "source": [
        "#Pizza classının oluşturlması.\n",
        "class pizza:\n",
        "  def __init__(self, name, description, cost):\n",
        "    self.name = name\n",
        "    self.description = description\n",
        "    self.cost = cost"
      ],
      "metadata": {
        "id": "RE420lfk0RbB"
      },
      "execution_count": 215,
      "outputs": []
    },
    {
      "cell_type": "code",
      "source": [
        "#Pizza alt sınıflarının oluşturlması.\n",
        "klasik = pizza(\"Klasik\",\"Klasik karışık pizza\", 90)\n",
        "margarita = pizza(\"Margarita\",\"Sadece peynirli pizza\", 75)\n",
        "turk_pizza = pizza(\"Türk Pizzası\",\"Türk lezzetleri pizza\", 90)\n",
        "sade = pizza(\"Sade\", \"Sade pizza\",  100)"
      ],
      "metadata": {
        "id": "qF2UGC9t66Zb"
      },
      "execution_count": 216,
      "outputs": []
    },
    {
      "cell_type": "code",
      "source": [
        "#Decorator classının oluşturulması. Pizza classının özelliklerini kullanır.\n",
        "class decorator(pizza):\n",
        "  def toplam_ucret(self,pizza):\n",
        "    ucret = pizza.cost + self.cost\n",
        "    return ucret\n",
        "  def pizza_aciklama(self,pizza):\n",
        "    desc = pizza.description + ' ' + self.description + ' ile hazırlanacaktır.'\n",
        "    return desc"
      ],
      "metadata": {
        "id": "3zknP6VK7QE3"
      },
      "execution_count": 217,
      "outputs": []
    },
    {
      "cell_type": "code",
      "source": [
        "#Ek malzemelerin decorator alt sınıfı olarak oluşturulur.\n",
        "zeytin = decorator(\"Zeytin\",\"ekstra zeytin\", 5)\n",
        "mantar = decorator(\"Mantar\",\"ekstra mantar\", 10)\n",
        "keci_peyniri = decorator(\"Keçi Peyniri\",\"özel keçi peyniri\", 15)\n",
        "et = decorator(\"Et\",\"marine edilmiş dana eti\", 20)\n",
        "sogan = decorator(\"Soğan\",\"karamelize soğan\", 7)\n",
        "misir = decorator(\"Mısır\",\"yerli mısır\", 8)"
      ],
      "metadata": {
        "id": "npeLYj2Tfmtc"
      },
      "execution_count": 218,
      "outputs": []
    },
    {
      "cell_type": "code",
      "source": [
        "#Menu.txt dosyası oluşturularak, menu değişkeni oluşturulur.\n",
        "lines = ['* Lütfen Bir Pizza Tabanı Seçiniz:', '1: Klasik', '2: Margarita', '3: TürkPizza', '4: Sade Pizza', '* ve seçeceğiniz sos:', '11: Zeytin', '12: Mantarlar', '13: Keçi Peyniri', '14: Et', '15: Soğan', '16: Mısır', '* Teşekkür ederiz!' ]\n",
        "with open(\"Menu.txt\", \"a\") as file:\n",
        "  for line in lines:\n",
        "   file.write(line)\n",
        "   file.write(\"\\n\")\n",
        "file = open(\"Menu.txt\", \"r\")\n",
        "menu = file.read()\n",
        "file.close()"
      ],
      "metadata": {
        "id": "URMSn7s6K3KA"
      },
      "execution_count": 219,
      "outputs": []
    },
    {
      "cell_type": "code",
      "source": [
        "#Menü sözlüğü oluşturulur. Keyleri menüdeki numaralardan, valueları ise alt sınıflardan oluşur.\n",
        "menu_dict = {\n",
        "    \"1\" : klasik,\n",
        "    \"2\" : margarita,\n",
        "    \"3\" : turk_pizza,\n",
        "    \"4\" : sade,\n",
        "    \"11\" : zeytin,\n",
        "    \"12\" : mantar,\n",
        "    \"13\" : keci_peyniri,\n",
        "    \"14\" : et,\n",
        "    \"15\" : sogan,\n",
        "    \"16\": misir\n",
        "}"
      ],
      "metadata": {
        "id": "RLGyCaoxQKRC"
      },
      "execution_count": 220,
      "outputs": []
    },
    {
      "cell_type": "code",
      "source": [
        "baslik = ['Kullanıcı Adı', 'TC Kimlik No', 'Kredi Kartı No', 'Şifre', 'Sipariş Açıklaması', 'Sipariş Zamanı']\n",
        "with open('Orders_Database.csv', 'a') as database:\n",
        "    writer_object = writer(database)\n",
        "    writer_object.writerow(baslik)\n",
        "    database.close()"
      ],
      "metadata": {
        "id": "-oV993pMS6mH"
      },
      "execution_count": 228,
      "outputs": []
    },
    {
      "cell_type": "code",
      "source": [
        "#Veri tabanına siparişlerin yazılması için oluşturulan fonksiyon.\n",
        "def veritabanina_yazma(siparis):\n",
        "  with open('Orders_Database.csv', 'a') as database:\n",
        "    writer_object = writer(database)\n",
        "    writer_object.writerow(siparis)\n",
        "    database.close()"
      ],
      "metadata": {
        "id": "VIqZ_rQThcIS"
      },
      "execution_count": 222,
      "outputs": []
    },
    {
      "cell_type": "code",
      "source": [
        "#Pizza seçimi için hazırlanan fonksiyon\n",
        "def pizza_secimi():\n",
        "  pizza_numarasi = input(\"Almak istediğiniz pizza ile ilgili numarayı giriniz: \")\n",
        "  while True:\n",
        "   try:\n",
        "    if int(pizza_numarasi) in range(0,5) :\n",
        "     secilen_pizza = menu_dict[pizza_numarasi]\n",
        "     break\n",
        "    pizza_numarasi = input(\"Lütfen menüde olan bir değer giriniz. Almak istediğiniz pizza ile ilgili numarayı giriniz: \")\n",
        "   except ValueError:\n",
        "    pizza_numarasi = input(\"Lütfen menüde olan bir değer giriniz. Almak istediğiniz pizza ile ilgili numarayı giriniz: \")\n",
        "  return secilen_pizza"
      ],
      "metadata": {
        "id": "96JktLvBklVF"
      },
      "execution_count": 223,
      "outputs": []
    },
    {
      "cell_type": "code",
      "source": [
        "#Ek malzeme seçimi için hazırlanan fonksiyon\n",
        "def ek_malzeme_secimi():\n",
        "  malzeme_numarasi = input(\"Eklemek istediğiniz malzeme ile ilgili numarayı giriniz: \")\n",
        "  while True:\n",
        "    try:\n",
        "     if int(malzeme_numarasi) in range(10,17):\n",
        "      secilen_malzeme = menu_dict[malzeme_numarasi]\n",
        "      break\n",
        "     malzeme_numarasi = input(\"Lütfen menüde olan bir değer giriniz. Eklemek istediğiniz malzeme ile ilgili numarayı giriniz: \")\n",
        "    except ValueError:\n",
        "       malzeme_numarasi = input(\"Lütfen menüde olan bir değer giriniz. Eklemek istediğiniz malzeme ile ilgili numarayı giriniz: \")\n",
        "  return secilen_malzeme"
      ],
      "metadata": {
        "id": "mJFkSta1k0LG"
      },
      "execution_count": 224,
      "outputs": []
    },
    {
      "cell_type": "code",
      "source": [
        "#Ödeme fonksiyonu\n",
        "def odeme():\n",
        "  kullanici_adi = input(\"Lütfen adınızı soyadınızı giriniz: \")\n",
        "  kimlik_no = input(\"Lütfen TC kimlik numaranızı giriniz: \")\n",
        "  #Kimlik numarası hane kontrolü\n",
        "  while True:\n",
        "   if len(kimlik_no) == 11:\n",
        "     break\n",
        "   kimlik_no = input(\"Kimlik numaranız 11 haneli olmalıdır. Lütfen TC kimlik numaranızı giriniz: \")\n",
        "  kredi_karti_no = input(\"Lütfen kredi karti numaranızı giriniz: \")\n",
        "  #Kredi kartı numarası hane kontrolü\n",
        "  while True:\n",
        "    if len(kredi_karti_no) == 16:\n",
        "      break\n",
        "    kredi_karti_no = input(\"Kredi kartı numaranız 16 haneli olmalıdır. Lütfen kredi karti numaranızı giriniz: \")\n",
        "  sifre = input(\"Lütfen karta ait şifreyi giriniz: \")\n",
        "  #Şifre hane kontrolü\n",
        "  while True:\n",
        "    if len(sifre) == 4:\n",
        "      break\n",
        "    sifre = input(\"Şifreniz 4 haneli olmalıdır. Lütfen karta ait şifreyi giriniz: \")\n",
        "  #Sipariş zamanının Türkiye yerel saatine eşitlemek için 3 saat ekliyorum.\n",
        "  siparis_zamani = (datetime.now() + timedelta(hours=3)).strftime(\"%d/%m/%y  %H:%M\")\n",
        "  return kullanici_adi, kimlik_no, kredi_karti_no, sifre, siparis_zamani"
      ],
      "metadata": {
        "id": "1jmCl1bMuieX"
      },
      "execution_count": 225,
      "outputs": []
    },
    {
      "cell_type": "code",
      "source": [
        "#Sipariş işlemlerinin gerçekleşeceği main fonksiyonu\n",
        "def main():\n",
        "  print(menu)\n",
        "  #Siparişin detaylarını liste kullanarak database üzerine yazacağız. Main fonksiyon her çağrıldığında sıfırdan boş bir liste oluşturulyor.\n",
        "  siparis = []\n",
        "  #Sipariş bilgileri alınır.\n",
        "  secilen_pizza = pizza_secimi()\n",
        "  secilen_malzeme = ek_malzeme_secimi()\n",
        "  tutar = secilen_malzeme.toplam_ucret(secilen_pizza)\n",
        "  aciklama = secilen_malzeme.pizza_aciklama(secilen_pizza) + \" Toplam tutar: \" + str(tutar) +\"TL\"\n",
        "  print(aciklama)\n",
        "  #Ödeme işlemi odeme fonksiyonu çağrılarak gerçekleştiriliyor.\n",
        "  global kullanici_adi, kimlik_no, kredi_karti_no, sifre, siparis_zamani\n",
        "  kullanici_adi, kimlik_no, kredi_karti_no, sifre, siparis_zamani = odeme()\n",
        "  #Sipariş bilgileri order listesine eleman olarak eklenir.\n",
        "  siparis.append(kullanici_adi)\n",
        "  siparis.append(kimlik_no)\n",
        "  siparis.append(kredi_karti_no)\n",
        "  siparis.append(sifre)\n",
        "  siparis.append(aciklama)\n",
        "  siparis.append(siparis_zamani)\n",
        "  #Sipariş bilgileri veritabanına yazılır.\n",
        "  veritabanina_yazma(siparis)\n",
        "  print(\"Siparişiniz başarı ile alınmıştır.\")"
      ],
      "metadata": {
        "id": "TKYAKVbQjcfG"
      },
      "execution_count": 226,
      "outputs": []
    },
    {
      "cell_type": "code",
      "source": [
        "main()"
      ],
      "metadata": {
        "id": "hfUdu14-VgMG"
      },
      "execution_count": null,
      "outputs": []
    }
  ]
}